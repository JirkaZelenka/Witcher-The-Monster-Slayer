{
 "cells": [
  {
   "cell_type": "markdown",
   "metadata": {},
   "source": [
    "### 3.1.2022\n",
    "### ovládání emulátorů pomocí pythonu\n",
    "### snaha rozchodit Witcher mobilní hru na pc a ovládat ji a sbírat data z Nemetonů"
   ]
  },
  {
   "cell_type": "markdown",
   "metadata": {},
   "source": [
    "#### (( 1) APPIUM - https://www.youtube.com/watch?v=SMBBE8NJ7qA ))\n",
    "#### (( 2) UIAutomator - https://github.com/xiaocong/uiautomator ))\n",
    "#### 3) PyAutoGUI - https://www.geeksforgeeks.org/mouse-keyboard-automation-using-python/\n",
    "\n",
    "##### delší verze - obejít všechyn metony a naklikat je a screenshotovat. \n",
    "##### kratší verze - navštívit jen mapu a najet vždy nad nemeton a screenshotovat jen téma\n",
    "\n",
    "### extra nápad: kod co spouští sám sebe přes ovládání myši a klávesnice v jupyter notebooku"
   ]
  },
  {
   "cell_type": "markdown",
   "metadata": {},
   "source": [
    "## pozn: zmizelo mi našepávání proměnných, automatické dvojení závorek a uvozovek, ale taky ukázání proměnné v buňce když je nakliknutá a na víc místech\n",
    "## naopak můžu odinstalvoat Voila a nějaké další kravinky co tu mám navíc"
   ]
  },
  {
   "cell_type": "markdown",
   "metadata": {},
   "source": [
    "# xxxxxxxxxxxxxxxxxxxxxxxxxxxxxxxxxxxxxxxxxxxxxxxxxxxxxxxxxxxxxxxxxxxxxxxxxxxxxxxxxxxxxxxxxxxxxxxxxxxxxxxxxxx"
   ]
  },
  {
   "cell_type": "markdown",
   "metadata": {},
   "source": [
    "## DONE:\n",
    "* po přečtení bossů je přiřaď do DF\n",
    "\n",
    "## To DO:\n",
    "* Druhé kolečko pouze se stromy kde vyšlo \"NOTHING\" a doplnit je\n",
    "* Prohnat ta jména co mi vypadla slovníkem nestvůr, rozřadit vzácnost (viz excel s nestvůrami)\n",
    "\n",
    "* zakreslovat si do svojí mapy, zkusit udělat Google mapu prahy\n",
    "* GPS coordinates ??\n",
    "* tam pak udělat funčkní otázku, nějakým api tam dostat svoje body z datasetu do sdílené mapy\n",
    "* určitě python mapk a dostupnost z mého gitu jako funkční HTML.\n",
    "* jak se updatuje pravidelně na GITu?\n",
    "* barvy podle rarity, ovžínsti a taky podle posledního updatu - můžu mít stará data...\n",
    "\n",
    "* ?? dělat na batche, vždy po jednom screenu hodit subfolder a zatímco se vytváří a kopírují cropy, tak čekat na načtení mapy??\n",
    "* mít tak kontrolu, kde se povedlo přiřadit jméno\n",
    "\n",
    "* ((časy jsou naštěstí jednotné, vždy od 1:00 se všechno mění))\n",
    "* zálohovat si DF každý den klidně, bude to jen maličké csv s 8 sloupci asi\n",
    "\n",
    "* rozšířit na víc lokací\n",
    "* a pak začít prosit lidi o piny nemetonů na mapě, o dobré lokace"
   ]
  },
  {
   "cell_type": "code",
   "execution_count": null,
   "metadata": {
    "tags": []
   },
   "outputs": [],
   "source": [
    "# !pip install pyautogui"
   ]
  },
  {
   "cell_type": "code",
   "execution_count": 3,
   "metadata": {},
   "outputs": [],
   "source": [
    "import pandas as pd\n",
    "import time\n",
    "\n",
    "# ovládání myši\n",
    "import pyautogui\n",
    "\n",
    "# PNG -> text\n",
    "from PIL import Image\n",
    "from pytesseract import pytesseract\n",
    "\n",
    "# operace se soubory a adresáři\n",
    "import shutil, os\n",
    "from os import listdir\n",
    "from os.path import isfile, join"
   ]
  },
  {
   "cell_type": "code",
   "execution_count": null,
   "metadata": {},
   "outputs": [],
   "source": [
    "print(pyautogui.size())"
   ]
  },
  {
   "cell_type": "code",
   "execution_count": null,
   "metadata": {},
   "outputs": [],
   "source": [
    "pyautogui.moveTo(150, 100, duration = 1)"
   ]
  },
  {
   "cell_type": "code",
   "execution_count": null,
   "metadata": {},
   "outputs": [],
   "source": [
    "pyautogui.moveRel(0, 50, duration = 1)"
   ]
  },
  {
   "cell_type": "code",
   "execution_count": 18,
   "metadata": {},
   "outputs": [
    {
     "name": "stdout",
     "output_type": "stream",
     "text": [
      "Point(x=979, y=935)\n"
     ]
    }
   ],
   "source": [
    "print(pyautogui.position())"
   ]
  },
  {
   "cell_type": "code",
   "execution_count": null,
   "metadata": {},
   "outputs": [],
   "source": [
    "pyautogui.click(500, 500)"
   ]
  },
  {
   "cell_type": "code",
   "execution_count": null,
   "metadata": {},
   "outputs": [],
   "source": [
    "# například v malování nakreslí čtverec\n",
    "\n",
    "import time\n",
    "import pyautogui\n",
    "time.sleep(10)\n",
    " \n",
    "# makes program execution pause for 10 sec\n",
    "pyautogui.moveTo(450, 450, duration = 1)\n",
    " \n",
    "pyautogui.dragRel(100, 0, duration = 1)\n",
    " \n",
    "# drags mouse 100, 0 relative to its previous position,\n",
    "# thus dragging it to 1100, 1000\n",
    "pyautogui.dragRel(0, 100, duration = 1)\n",
    "pyautogui.dragRel(-100, 0, duration = 1)\n",
    "pyautogui.dragRel(0, -100, duration = 1)"
   ]
  },
  {
   "cell_type": "code",
   "execution_count": null,
   "metadata": {},
   "outputs": [],
   "source": [
    "## mám hru na pravém okraji na výšku:\n",
    "\n",
    "# Point(x=1893, y=549) = 1893, 549 = Set location\n",
    "# Point(x=276, y=92) = 276, 92 = search button\n",
    "# 50.1359411005172, 14.430369250747939  nemeton u léčebny\n",
    "# Point(x=1493, y=589) = 1493, 589 = klik na search\n",
    "# Point(x=849, y=418) = 849, 418 = první volba ze seznamu\n",
    "# Size(width=1920, height=1080) = 1920, 1080 = klik doprosřed obrazovky k návrhu\n",
    "# Point(x=1828, y=150) = 1828, 150 = exit button\n",
    "# Point(x=1213, y=114) = 1213, 114 = kompas, poté co se mi posunula hra na střed, 2x kliknout\n",
    "# Point(x=1252, y=741) = 1252, 741 = klik na nemeton\n",
    "# Point(x=1302, y=381) = 1302, 381 = vyfoť screenshot"
   ]
  },
  {
   "cell_type": "markdown",
   "metadata": {},
   "source": [
    "## na velkém monitoru na fullscreen (vycentrováno)\n"
   ]
  },
  {
   "cell_type": "markdown",
   "metadata": {},
   "source": [
    "## funkční run !!"
   ]
  },
  {
   "cell_type": "code",
   "execution_count": null,
   "metadata": {
    "tags": []
   },
   "outputs": [],
   "source": [
    "# klikni na set location\n",
    "time.sleep(5)\n",
    "pyautogui.click(2536, 544)\n",
    "\n",
    "# klikni na search button\n",
    "time.sleep(1)\n",
    "pyautogui.click(150, 100)\n",
    "\n",
    "time.sleep(1)\n",
    "pyautogui.typewrite(\"50.1359411005172, 14.430369250747939\")\n",
    "\n",
    "# klikni na search\n",
    "time.sleep(0.5)\n",
    "pyautogui.click(1881, 811)\n",
    "\n",
    "# vyber první ze seznamu\n",
    "time.sleep(1)\n",
    "pyautogui.click(891, 561)\n",
    "\n",
    "# klikni doprostřed mapy\n",
    "time.sleep(1)\n",
    "pyautogui.click(1259, 713)\n",
    "\n",
    "# klikni na exit button\n",
    "time.sleep(1)\n",
    "pyautogui.click(2365, 186)\n",
    "\n",
    "# kompas poprvé\n",
    "time.sleep(1)\n",
    "pyautogui.click(1556, 139)\n",
    "\n",
    "\"\"\"\n",
    "# kompas podruhé                \n",
    "time.sleep(0.5)\n",
    "pyautogui.moveTo(1556, 139, duration = 1)\n",
    "pyautogui.click(1556, 139)\n",
    "\"\"\"\n",
    "\n",
    "# klikni na nemeton                \n",
    "time.sleep(1)\n",
    "pyautogui.click(1607, 965)\n",
    "\n",
    "# ulož screenshot                \n",
    "time.sleep(2)\n",
    "pyautogui.click(2539, 388)"
   ]
  },
  {
   "cell_type": "markdown",
   "metadata": {},
   "source": [
    "## verze s krakovem"
   ]
  },
  {
   "cell_type": "code",
   "execution_count": null,
   "metadata": {
    "tags": []
   },
   "outputs": [],
   "source": [
    "\n",
    "def visits(locations, list_positions, nemeton_click, sleep_coef):\n",
    "    \n",
    "    for i in range(len(locations)):\n",
    "        time.sleep(2)\n",
    "        t1 = time.time()\n",
    "\n",
    "        # klikni na set location\n",
    "        pyautogui.click(2536, 544)\n",
    "\n",
    "        # klikni na search button\n",
    "        time.sleep(2)\n",
    "        pyautogui.click(150, 100)\n",
    "\n",
    "        time.sleep(1)\n",
    "        pyautogui.typewrite(locations[i])   ### !!!!\n",
    "        #print(locations[i])\n",
    "\n",
    "        # klikni na search\n",
    "        time.sleep(0.5)\n",
    "        pyautogui.click(1881, 811)\n",
    "\n",
    "        # vyber první ze seznamu    ### !!!!\n",
    "        time.sleep(1)\n",
    "        #pyautogui.moveTo(list_positions[i][0], list_positions[i][1], duration = 2)\n",
    "        pyautogui.click(list_positions[i][0],list_positions[i][1])\n",
    "\n",
    "        # klikni doprostřed mapy\n",
    "        time.sleep(0.5)\n",
    "        pyautogui.click(1259, 713)\n",
    "\n",
    "        # klikni na exit button\n",
    "        time.sleep(0.5)\n",
    "        pyautogui.click(2365, 186)\n",
    "\n",
    "        # kompas poprvé\n",
    "        time.sleep(1)\n",
    "        pyautogui.click(1556, 139)\n",
    "        \n",
    "        \"\"\"\n",
    "        # kompas podruhé   \n",
    "        time.sleep(1)\n",
    "        pyautogui.click(1556, 139)\n",
    "        \"\"\"\n",
    "\n",
    "        # klikni na nemeton  \n",
    "        time.sleep(3)\n",
    "        #pyautogui.moveTo(nemeton_click[i][0], nemeton_click[i][1], duration = 2)\n",
    "        pyautogui.click(nemeton_click[i][0], nemeton_click[i][1])    ### !!!!\n",
    "        #print(nemeton_click[i][0], nemeton_click[i][1])\n",
    "\n",
    "        # ulož screenshot   \n",
    "        time.sleep(2)\n",
    "        pyautogui.click(2539, 388)\n",
    "        \n",
    "        # zavři strom\n",
    "        time.sleep(1)\n",
    "        pyautogui.click(1112, 1277)\n",
    "        \n",
    "        t2 = time.time()\n",
    "\n",
    "        print(t2-t1)\n",
    "        \n",
    "# 9.44 s not bad, ale to je pořád jen 360 nemetonů za hodinu :/ a to nepčítám upload někam\n",
    "\n",
    "# pozn - možná není nutné centrovat kompasem a opakuje se pozice, ale stojí za vyzkoušení"
   ]
  },
  {
   "cell_type": "code",
   "execution_count": null,
   "metadata": {
    "tags": []
   },
   "outputs": [],
   "source": [
    "locations = [\"50.12761155568105, 14.416838971072362\", \"50.1359411005172, 14.430369250747939\"]\n",
    "list_positions = [[595, 561], [891, 561]]\n",
    "nemeton_click = [[1128, 766], [1607, 965]]\n",
    "\n",
    "# první je krakov, druhý je léčebna\n",
    "\n",
    "#visits(locations,list_positions, nemeton_click, 1)"
   ]
  },
  {
   "cell_type": "code",
   "execution_count": null,
   "metadata": {},
   "outputs": [],
   "source": [
    "## wtf při druhém runu mi tam najednou skočí první obrázek, který už byl ale zabřený !!\n",
    "## vyřešeno zavíráním nemetonu\n",
    "## pomocné pohyby šipky asi trochu pomohly\n",
    "# nový problém - nedaří se mi poseldní (druhé) kliknutí na nemeton i když se údajně provedlo.\n",
    "## odebral jsem battery saver a shodil kvalitu dolů, jestli se to bude rychleji načítat celé v horší kvalitě ale rychleji..no snad"
   ]
  },
  {
   "cell_type": "markdown",
   "metadata": {},
   "source": [
    "## verze 2 = mapa s nemetony a jen bossy\n",
    "* předpokládám že už stojím v režimu medailon mapy\n",
    "* bacha na adresy s háčky a čárkami, nezapíšou se do vyhledávacího políčka\n",
    "* upravena pozice \"klikni na search\" a taky \"kompas\", kdoví proč je to jinak než dříve\n",
    "* nemeton na oddálené mapě je vidět až po reálném vidění \"ve světě\" - i když ne vždy, spíš je potřeba na tom msítě chvíli být, předtím\n",
    "### výhody:\n",
    "* při braní celkového záběru mapy, tak mám víc nemetonů najednou, jen je musím screenovat postupně. ale jsou třeba 4 v BHC\n",
    "* ušetřený čas nechám uvnitř, na načítání mapy po přesunu...\n",
    "* už mám orientovanou mapu na sever na stálo  - mohl bych vyjmout z loopu! a otáčet mapu jen na začátku\n",
    "### někdy po přesunu mapa-> still mapa, nevidím neemtony,zkusil jsem přidat proklik ven z mapy a zas přes medailon zpět"
   ]
  },
  {
   "cell_type": "code",
   "execution_count": 4,
   "metadata": {},
   "outputs": [],
   "source": [
    "def visits2(locations, list_positions, nemeton_positions, sleep_coef):\n",
    "    \n",
    "    for i in range(len(locations)):\n",
    "        time.sleep(2)\n",
    "        t1 = time.time()\n",
    "\n",
    "        # klikni na set location\n",
    "        pyautogui.click(2536, 544)\n",
    "\n",
    "        # klikni na search button\n",
    "        time.sleep(2)\n",
    "        pyautogui.click(150, 100)\n",
    "\n",
    "        time.sleep(1)\n",
    "        pyautogui.typewrite(locations[i])   \n",
    "\n",
    "        # klikni na search\n",
    "        time.sleep(0.5)\n",
    "        pyautogui.click(1881, 811)\n",
    "\n",
    "        # vyber první ze seznamu\n",
    "        time.sleep(2)\n",
    "        pyautogui.click(list_positions[i][0],list_positions[i][1])\n",
    "\n",
    "        # klikni doprostřed mapy   - toto asi můžu nechat stejné pro všechny ??\n",
    "        time.sleep(1)\n",
    "        pyautogui.click(1259, 713)\n",
    "\n",
    "        # klikni na exit button\n",
    "        time.sleep(1)\n",
    "        pyautogui.click(2365, 186)\n",
    "\n",
    "        \"\"\"\n",
    "        # kompas poprvé\n",
    "        time.sleep(1)\n",
    "        pyautogui.click(1556, 246)\n",
    "        \"\"\"\n",
    "        # klikni dvakrát na medailon, ať se nemetony objeví\n",
    "        time.sleep(1)\n",
    "        pyautogui.click(974, 1248)\n",
    "        time.sleep(2)\n",
    "        pyautogui.click(974, 1248)\n",
    "        \n",
    "        for j in range(len(nemeton_positions[i])):\n",
    "            \n",
    "            time.sleep(3)\n",
    "            pyautogui.click(nemeton_positions[i][j][0], nemeton_positions[i][j][1])    \n",
    "        \n",
    "            # ulož screenshot   \n",
    "            time.sleep(2)\n",
    "            pyautogui.click(2539, 388)\n",
    "\n",
    "        t2 = time.time()\n",
    "\n",
    "        print(t2-t1) "
   ]
  },
  {
   "cell_type": "code",
   "execution_count": 5,
   "metadata": {},
   "outputs": [],
   "source": [
    "locations = [\"Vratislavska 1\",\n",
    "             \"Ladevska 6\"]\n",
    "# Vratislavská 1 = 4 nemetony  # nebere psaní písmen s diakritikou, bacha\n",
    "\n",
    "list_positions = [[630, 733],\n",
    "                  [630, 733]\n",
    "                 ]\n",
    "\n",
    "nemeton_positions = [[[1201, 240], [1602, 310], [936, 862], [1378, 919]],\n",
    "                 [[1219,499], [1157,950]]\n",
    "                ]\n"
   ]
  },
  {
   "cell_type": "code",
   "execution_count": null,
   "metadata": {},
   "outputs": [],
   "source": [
    "# kompas poprvé\n",
    "time.sleep(2)\n",
    "pyautogui.click(1556, 246)  # klik na kompas\n",
    "\n",
    "#visits2(locations = locations, list_positions = list_positions, nemeton_positions = nemeton_positions, sleep_coef = 4)"
   ]
  },
  {
   "cell_type": "markdown",
   "metadata": {},
   "source": [
    "## odbočka - čtení textu z obrázků\n",
    "\n",
    "https://www.geeksforgeeks.org/how-to-extract-text-from-images-with-python/\n",
    "\n",
    "https://towardsdatascience.com/read-text-from-image-with-one-line-of-python-code-c22ede074cac"
   ]
  },
  {
   "cell_type": "code",
   "execution_count": null,
   "metadata": {
    "tags": []
   },
   "outputs": [],
   "source": [
    "#! pip install pytesseract"
   ]
  },
  {
   "cell_type": "code",
   "execution_count": 6,
   "metadata": {},
   "outputs": [],
   "source": [
    "from PIL import Image\n",
    "from pytesseract import pytesseract"
   ]
  },
  {
   "cell_type": "code",
   "execution_count": null,
   "metadata": {},
   "outputs": [],
   "source": [
    "path_to_tesseract = r\"C:\\Program Files\\Tesseract-OCR\\tesseract.exe\""
   ]
  },
  {
   "cell_type": "code",
   "execution_count": null,
   "metadata": {},
   "outputs": [],
   "source": [
    "img1 = r\"C:\\Users\\jiri.zelenka\\Desktop\\Python\\MIXXX\\sample1.png\"\n",
    "img2 = r\"C:\\Users\\jiri.zelenka\\Desktop\\Python\\MIXXX\\sample2.png\"\n",
    "img3 = r\"C:\\Users\\jiri.zelenka\\Desktop\\Python\\MIXXX\\sample3.png\""
   ]
  },
  {
   "cell_type": "code",
   "execution_count": null,
   "metadata": {},
   "outputs": [],
   "source": [
    "for image_path in [img1, img2, img3]:\n",
    "    img = Image.open(image_path)\n",
    "    pytesseract.tesseract_cmd = path_to_tesseract\n",
    "    text = pytesseract.image_to_string(img)\n",
    "\n",
    "    print(text[:-1])"
   ]
  },
  {
   "cell_type": "markdown",
   "metadata": {
    "jp-MarkdownHeadingCollapsed": true,
    "tags": []
   },
   "source": [
    "### Skore čtení obrázků:\n",
    "* prvotní úspěšnost 3/5\n",
    "* zajímavé, že někdy to vezme FALCON, někdy ALL, někdy ani jedno,\n",
    "* a delší název \"Common Arachas\" a \"Leshen Hound\" to vůbec nezvládlo..\n",
    "* no a na posledním obrázku to nedalo ani zápatí \"Map data 2022\" :(\n",
    "\n",
    "* pokus1 - už to přečte Leshen Hound, dokonce i Nemeton, ale nepřečte to \"All\" :O\n",
    "* pokus2 bohužel stále nepřečte patičku, ani \"Falcon\" :(\n",
    "* pokus3 - vyrez je dobry !\n",
    "\n",
    "* 27.1. druhá šestice, tam to zdálky přečetlo 1/6 :D\n",
    "* zblízka už vše"
   ]
  },
  {
   "cell_type": "code",
   "execution_count": 7,
   "metadata": {},
   "outputs": [],
   "source": [
    "def croptown(src, target, images):\n",
    "    for img in images:\n",
    "        Image.open(str(src + img)).crop((350, 255, 720, 465)).save(str(target  + str(img) + \"_crop.png\"), quality=95)"
   ]
  },
  {
   "cell_type": "code",
   "execution_count": 54,
   "metadata": {},
   "outputs": [],
   "source": [
    "\"\"\"\n",
    "    Nově přidáno:\n",
    "    separování moster z textu\n",
    "\"\"\"\n",
    "\n",
    "def read_picture(path, images):\n",
    "    path_to_tesseract = r\"C:\\Program Files\\Tesseract-OCR\\tesseract.exe\"\n",
    "    \n",
    "    texts = []\n",
    "    monsters = []\n",
    "    \n",
    "    for image_name in images:\n",
    "        img = Image.open(str(path + image_name))\n",
    "        pytesseract.tesseract_cmd = path_to_tesseract\n",
    "        text = pytesseract.image_to_string(img)\n",
    "        \n",
    "        print(image_name)\n",
    "        print(\"----------\")\n",
    "        print(text[:-1])\n",
    "        print(\"------------------------------\")\n",
    "\n",
    "        try:\n",
    "            monsters.append(text[:-1].split('\\n')[1])\n",
    "        except:\n",
    "            monsters.append(\"NOTHING\")\n",
    "    \n",
    "    \n",
    "    return monsters"
   ]
  },
  {
   "cell_type": "code",
   "execution_count": 23,
   "metadata": {},
   "outputs": [],
   "source": [
    "def image_processing(src, whole = True):\n",
    "    \n",
    "    \"\"\"prepare timestamped folder,\n",
    "        also \"crop\" folder,\n",
    "        copy all files there,\n",
    "        crop them to the \"crop\" folder,\n",
    "        read all of them\n",
    "    \"\"\"\n",
    "        \n",
    "    newpath = str(src +  time.strftime(\"%Y-%m-%d_%H-%M\"))\n",
    "    if not os.path.exists(newpath):\n",
    "        os.makedirs(newpath)\n",
    "        os.makedirs(str(newpath + \"/crops\"))\n",
    "    target = str(newpath + \"/crops/\")\n",
    "                    \n",
    "    print(src)\n",
    "    print(newpath)\n",
    "    print(target)\n",
    "    \n",
    "    time.sleep(5)  # úmyslné zbrždění, aby se dovytvořilo všechno. to už mě nezabije, takhle jednorázová čekačka\n",
    "    \n",
    "    if whole == True:\n",
    "        imgs = [f for f in listdir(src) if isfile(join(src, f))]   # vše co je ve složce screenshotů. Je dobré, že to nebere subfold\n",
    "    #else:\n",
    "    \n",
    "    for i in imgs:\n",
    "        shutil.copy(str(src + i), str(newpath + \"/\" + i))   # překopíruj\n",
    "    \n",
    "    time.sleep(5)  # úmyslné zbrždění, aby se dovytvořilo všechno. to už mě nezabije, takhle jednorázová čekačka\n",
    "    \n",
    "    croptown(src, target,  imgs)\n",
    "    \n",
    "    time.sleep(4)  # úmyslné zbrždění, aby se dovytvořilo všechno. to už mě nezabije, takhle jednorázová čekačka\n",
    "    \n",
    "    imgs_crops = [f for f in listdir(target) if isfile(join(target, f))]\n",
    "                    \n",
    "    read_picture(target, imgs_crops)"
   ]
  },
  {
   "cell_type": "code",
   "execution_count": null,
   "metadata": {
    "tags": []
   },
   "outputs": [],
   "source": [
    "#image_processing(\"C:/Users/jiri.zelenka/Pictures/BlueStacks/\", True)"
   ]
  },
  {
   "cell_type": "code",
   "execution_count": null,
   "metadata": {},
   "outputs": [],
   "source": []
  },
  {
   "cell_type": "markdown",
   "metadata": {},
   "source": [
    "## DATASET + vytvoření inputů pro Searching\n",
    "\n",
    "#### problém s oblastí 3, jsou tam 3-4 nemetony, ale většinou se jeden z těch tří nezobrazuje :/\n",
    "#### druhý paralelní problém - poslední screenshot se nestihne zkopírovat do složky a tedy ani ořezat ! / snad vyřešeno\n",
    "#### Musím pořád držet stejný zoom !! asi kvůli klikání do mapy teda..nebo ne? kažodpándě zoom je takový, že  se akorát objeví Salesiáni"
   ]
  },
  {
   "cell_type": "code",
   "execution_count": 10,
   "metadata": {},
   "outputs": [],
   "source": [
    "locations = [\"Vratislavska 1\",\n",
    "             \"Ladevska 6\"]\n",
    "# Vratislavská 1 = 4 nemetony  # nebere psaní písmen s diakritikou, bacha\n",
    "\n",
    "list_positions = [[630, 733],\n",
    "                  [630, 733]\n",
    "                 ]\n",
    "\n",
    "nemeton_positions = [[[1201, 240], [1602, 310], [936, 862], [1378, 919]],\n",
    "                 [[1219,499], [1157,950]]\n",
    "                ]"
   ]
  },
  {
   "cell_type": "code",
   "execution_count": 56,
   "metadata": {},
   "outputs": [
    {
     "data": {
      "text/html": [
       "<div>\n",
       "<style scoped>\n",
       "    .dataframe tbody tr th:only-of-type {\n",
       "        vertical-align: middle;\n",
       "    }\n",
       "\n",
       "    .dataframe tbody tr th {\n",
       "        vertical-align: top;\n",
       "    }\n",
       "\n",
       "    .dataframe thead th {\n",
       "        text-align: right;\n",
       "    }\n",
       "</style>\n",
       "<table border=\"1\" class=\"dataframe\">\n",
       "  <thead>\n",
       "    <tr style=\"text-align: right;\">\n",
       "      <th></th>\n",
       "      <th>Adress</th>\n",
       "      <th>List_position</th>\n",
       "      <th>Nemeton_position</th>\n",
       "      <th>nemeton_id</th>\n",
       "      <th>text</th>\n",
       "      <th>boss</th>\n",
       "      <th>GPS</th>\n",
       "    </tr>\n",
       "  </thead>\n",
       "  <tbody>\n",
       "    <tr>\n",
       "      <th>0</th>\n",
       "      <td>Vratislavska 1</td>\n",
       "      <td>[630, 733]</td>\n",
       "      <td>[1201, 240]</td>\n",
       "      <td>1</td>\n",
       "      <td>text_3_sections</td>\n",
       "      <td>boss</td>\n",
       "      <td>[50.14, 12.23]</td>\n",
       "    </tr>\n",
       "    <tr>\n",
       "      <th>1</th>\n",
       "      <td>Vratislavska 1</td>\n",
       "      <td>[630, 733]</td>\n",
       "      <td>[1602, 310]</td>\n",
       "      <td>2</td>\n",
       "      <td>text_3_sections</td>\n",
       "      <td>boss</td>\n",
       "      <td>[50.15, 12.23]</td>\n",
       "    </tr>\n",
       "    <tr>\n",
       "      <th>2</th>\n",
       "      <td>Vratislavska 1</td>\n",
       "      <td>[630, 733]</td>\n",
       "      <td>[936, 862]</td>\n",
       "      <td>3</td>\n",
       "      <td>text_3_sections</td>\n",
       "      <td>boss</td>\n",
       "      <td>[50.16, 12.23]</td>\n",
       "    </tr>\n",
       "    <tr>\n",
       "      <th>3</th>\n",
       "      <td>Vratislavska 1</td>\n",
       "      <td>[630, 733]</td>\n",
       "      <td>[1378, 919]</td>\n",
       "      <td>4</td>\n",
       "      <td>text_3_sections</td>\n",
       "      <td>boss</td>\n",
       "      <td>[50.17, 12.23]</td>\n",
       "    </tr>\n",
       "    <tr>\n",
       "      <th>4</th>\n",
       "      <td>Ladevska 6</td>\n",
       "      <td>[630, 733]</td>\n",
       "      <td>[1219, 499]</td>\n",
       "      <td>5</td>\n",
       "      <td>text_3_sections</td>\n",
       "      <td>boss</td>\n",
       "      <td>[50.18, 12.23]</td>\n",
       "    </tr>\n",
       "    <tr>\n",
       "      <th>5</th>\n",
       "      <td>Ladevska 6</td>\n",
       "      <td>[630, 733]</td>\n",
       "      <td>[1157, 950]</td>\n",
       "      <td>6</td>\n",
       "      <td>text_3_sections</td>\n",
       "      <td>boss</td>\n",
       "      <td>[50.19, 12.23]</td>\n",
       "    </tr>\n",
       "    <tr>\n",
       "      <th>6</th>\n",
       "      <td>Na jablonce, 182</td>\n",
       "      <td>[613, 748]</td>\n",
       "      <td>[1228, 331]</td>\n",
       "      <td>5</td>\n",
       "      <td>text_3_sections</td>\n",
       "      <td>boss</td>\n",
       "      <td>[50.2, 2.23]</td>\n",
       "    </tr>\n",
       "    <tr>\n",
       "      <th>7</th>\n",
       "      <td>Na jablonce, 182</td>\n",
       "      <td>[613, 748]</td>\n",
       "      <td>[979, 935]</td>\n",
       "      <td>6</td>\n",
       "      <td>text_3_sections</td>\n",
       "      <td>boss</td>\n",
       "      <td>[50.21, 2.23]</td>\n",
       "    </tr>\n",
       "  </tbody>\n",
       "</table>\n",
       "</div>"
      ],
      "text/plain": [
       "             Adress List_position Nemeton_position  nemeton_id  \\\n",
       "0    Vratislavska 1    [630, 733]      [1201, 240]           1   \n",
       "1    Vratislavska 1    [630, 733]      [1602, 310]           2   \n",
       "2    Vratislavska 1    [630, 733]       [936, 862]           3   \n",
       "3    Vratislavska 1    [630, 733]      [1378, 919]           4   \n",
       "4        Ladevska 6    [630, 733]      [1219, 499]           5   \n",
       "5        Ladevska 6    [630, 733]      [1157, 950]           6   \n",
       "6  Na jablonce, 182    [613, 748]      [1228, 331]           5   \n",
       "7  Na jablonce, 182    [613, 748]       [979, 935]           6   \n",
       "\n",
       "              text  boss             GPS  \n",
       "0  text_3_sections  boss  [50.14, 12.23]  \n",
       "1  text_3_sections  boss  [50.15, 12.23]  \n",
       "2  text_3_sections  boss  [50.16, 12.23]  \n",
       "3  text_3_sections  boss  [50.17, 12.23]  \n",
       "4  text_3_sections  boss  [50.18, 12.23]  \n",
       "5  text_3_sections  boss  [50.19, 12.23]  \n",
       "6  text_3_sections  boss    [50.2, 2.23]  \n",
       "7  text_3_sections  boss   [50.21, 2.23]  "
      ]
     },
     "execution_count": 56,
     "metadata": {},
     "output_type": "execute_result"
    }
   ],
   "source": [
    "# pro každý nemeton je extra řádek, mohou se opakovat Adress a List_position\n",
    "\n",
    "data_all = [[\"Vratislavska 1\", [630, 733], [1201, 240], 1 , \"text_3_sections\", \"boss\", [50.14, 12.23]],\n",
    "            [\"Vratislavska 1\", [630, 733], [1602, 310], 2, \"text_3_sections\", \"boss\", [50.15, 12.23]],\n",
    "            [\"Vratislavska 1\", [630, 733],  [936, 862], 3, \"text_3_sections\", \"boss\", [50.16, 12.23]],\n",
    "            [\"Vratislavska 1\", [630, 733], [1378, 919], 4, \"text_3_sections\", \"boss\", [50.17, 12.23]],\n",
    "            [\"Ladevska 6\", [630, 733], [1219,499], 5, \"text_3_sections\", \"boss\", [50.18, 12.23]],\n",
    "            [\"Ladevska 6\", [630, 733], [1157,950], 6, \"text_3_sections\", \"boss\", [50.19,12.23]],\n",
    "            [\"Na jablonce, 182\", [613, 748], [1228,331], 5, \"text_3_sections\", \"boss\", [50.20, 2.23]],\n",
    "            [\"Na jablonce, 182\", [613, 748], [979,935], 6, \"text_3_sections\", \"boss\", [50.21,2.23]],\n",
    "           ]\n",
    "\n",
    "df_all = pd.DataFrame(data_all, columns =['Adress', 'List_position', 'Nemeton_position', 'nemeton_id', 'text', 'boss', 'GPS'])\n",
    "df_all"
   ]
  },
  {
   "cell_type": "code",
   "execution_count": 91,
   "metadata": {},
   "outputs": [],
   "source": [
    "def prepare_inputs(df):\n",
    "\n",
    "    locations = []\n",
    "    for adr in df[\"Adress\"].unique():\n",
    "        #print(adr)\n",
    "        locations.append(adr)\n",
    "        \n",
    "    list_positions = []\n",
    "    for locat in locations:\n",
    "        position = df[df[\"Adress\"] == locat][\"List_position\"].iloc[0]  # vyfiltruj si je a pak vem první výskyt, musí být stejné\n",
    "        #print(position)\n",
    "        list_positions.append(position)\n",
    "        \n",
    "        \n",
    "    nemeton_positions = []\n",
    "    for location in locations:\n",
    "        nems = []\n",
    "        nemetons = df[df[\"Adress\"] == location]\n",
    "        nemetons.reset_index(inplace = True, drop = True)   # inplace samotné ho udělá jako nový index, drop zahodí starý index\n",
    "        #display(nemetons)\n",
    "\n",
    "        for j in range(len(nemetons)):\n",
    "            nems.append(nemetons[\"Nemeton_position\"].iloc[j])\n",
    "\n",
    "        nemeton_positions.append(nems)\n",
    "\n",
    "    return locations, list_positions, nemeton_positions"
   ]
  },
  {
   "cell_type": "code",
   "execution_count": 21,
   "metadata": {
    "tags": []
   },
   "outputs": [
    {
     "name": "stdout",
     "output_type": "stream",
     "text": [
      "['Vratislavska 1', 'Ladevska 6', 'Na jablonce, 182']\n",
      "[[630, 733], [630, 733], [613, 748]]\n",
      "[[[1201, 240], [1602, 310], [936, 862], [1378, 919]], [[1219, 499], [1157, 950]], [[1228, 331], [979, 935]]]\n"
     ]
    }
   ],
   "source": [
    "locations, list_positions, nemeton_positions = prepare_inputs(df_all)\n",
    "\n",
    "print(locations)\n",
    "print(list_positions)\n",
    "print(nemeton_positions)"
   ]
  },
  {
   "cell_type": "markdown",
   "metadata": {},
   "source": [
    "## Na celek:\n",
    "### Příprava inputů, úvodní klik na kompas, postahování screenů, processing na text\n",
    "* časy 3+2 sec u překlikávání nemetonů a screenování jsou OK, narodíl od 2+2\n",
    "* problém - nestihl se mi objevit poslední obrázek ve složce, takže se neořízl :/ počkat??"
   ]
  },
  {
   "cell_type": "code",
   "execution_count": 63,
   "metadata": {
    "collapsed": true,
    "jupyter": {
     "outputs_hidden": true
    },
    "tags": []
   },
   "outputs": [
    {
     "name": "stdout",
     "output_type": "stream",
     "text": [
      "32.42818331718445\n",
      "21.95132350921631\n",
      "21.96892023086548\n",
      "C:/Users/jiri.zelenka/Pictures/BlueStacks/\n",
      "C:/Users/jiri.zelenka/Pictures/BlueStacks/2022-01-30_18-58\n",
      "C:/Users/jiri.zelenka/Pictures/BlueStacks/2022-01-30_18-58/crops/\n",
      "Screenshot_2022.01.30_18.57.56.552.png_crop.png\n",
      "----------\n",
      "NEMETON\n",
      "GARGOYLE\n",
      "06:03:32\n",
      "------------------------------\n",
      "Screenshot_2022.01.30_18.58.01.685.png_crop.png\n",
      "----------\n",
      "NEMETON\n",
      "GARGOYLE\n",
      "06:03:27\n",
      "------------------------------\n",
      "Screenshot_2022.01.30_18.58.06.919.png_crop.png\n",
      "----------\n",
      "NEMETON\n",
      "HERMIT ARACHAS\n",
      "06:03:22\n",
      "------------------------------\n",
      "Screenshot_2022.01.30_18.58.12.152.png_crop.png\n",
      "----------\n",
      "NEMETON\n",
      "PENITENT\n",
      "06:03:17\n",
      "------------------------------\n",
      "Screenshot_2022.01.30_18.58.30.886.png_crop.png\n",
      "----------\n",
      "NEMETON\n",
      "GARGOYLE\n",
      "06:02:58\n",
      "------------------------------\n",
      "Screenshot_2022.01.30_18.58.36.085.png_crop.png\n",
      "----------\n",
      "NEMETON\n",
      "GARGOYLE\n",
      "06:02:53\n",
      "------------------------------\n",
      "Screenshot_2022.01.30_18.58.54.886.png_crop.png\n",
      "----------\n",
      "\n",
      "------------------------------\n",
      "Screenshot_2022.01.30_18.59.00.085.png_crop.png\n",
      "----------\n",
      "NEMETON\n",
      "NEKKER WARRIOR\n",
      "06:02:29\n",
      "------------------------------\n",
      "Příprava inputů =0.0039031505584716797\n",
      "Focení mapy =84.46600532531738\n",
      "Ořezy + čtení jmen =18.303918838500977\n",
      "Celkem =102.77382731437683\n"
     ]
    }
   ],
   "source": [
    "t_0 = time.time() \n",
    "\n",
    "# 1) Příprava inputů\n",
    "locations, list_positions, nemeton_positions = prepare_inputs(df_miss)\n",
    "\n",
    "t_1 = time.time() \n",
    "\n",
    "time.sleep(2)\n",
    "pyautogui.click(1556, 246)  # klik na kompas\n",
    "\n",
    "#\"\"\"\n",
    "# 2) projetí mapy a uložení screenů\n",
    "visits2(locations = locations, list_positions = list_positions, nemeton_positions = nemeton_positions, sleep_coef = 4)\n",
    "#\"\"\"\n",
    "\n",
    "t_2 = time.time() \n",
    "\n",
    "# 3) zpracování screenů, přečtení\n",
    "image_processing(\"C:/Users/jiri.zelenka/Pictures/BlueStacks/\", True)\n",
    "\n",
    "t_3 = time.time() \n",
    "\n",
    "print(str(\"Příprava inputů =\" + str(t_1-t_0)))\n",
    "print(str(\"Focení mapy =\" + str(t_2-t_1)))\n",
    "print(str(\"Ořezy + čtení jmen =\" + str(t_3-t_2)))\n",
    "print(str(\"Celkem =\" + str(t_3-t_0)))"
   ]
  },
  {
   "cell_type": "markdown",
   "metadata": {},
   "source": [
    "## Appendování monster po čtení"
   ]
  },
  {
   "cell_type": "code",
   "execution_count": 53,
   "metadata": {
    "collapsed": true,
    "jupyter": {
     "outputs_hidden": true
    },
    "tags": []
   },
   "outputs": [
    {
     "name": "stdout",
     "output_type": "stream",
     "text": [
      "Screenshot_2022.01.30_18.42.09.419.png_crop.png\n",
      "----------\n",
      "NEMETON\n",
      "GARGOYLE\n",
      "06:19:19\n",
      "------------------------------\n",
      "Screenshot_2022.01.30_18.42.14.551.png_crop.png\n",
      "----------\n",
      "NEMETON\n",
      "GARGOYLE\n",
      "06:19:14\n",
      "------------------------------\n",
      "Screenshot_2022.01.30_18.42.19.785.png_crop.png\n",
      "----------\n",
      "NEMETON\n",
      "HERMIT ARACHAS\n",
      "06:19:09\n",
      "------------------------------\n",
      "Screenshot_2022.01.30_18.42.25.018.png_crop.png\n",
      "----------\n",
      "NEMETON\n",
      "PENITENT\n",
      "06:19:04\n",
      "------------------------------\n",
      "Screenshot_2022.01.30_18.42.43.719.png_crop.png\n",
      "----------\n",
      "NEMETON\n",
      "GARGOYLE\n",
      "06:18:45\n",
      "------------------------------\n",
      "Screenshot_2022.01.30_18.42.48.952.png_crop.png\n",
      "----------\n",
      "NEMETON\n",
      "GARGOYLE\n",
      "06:18:40\n",
      "------------------------------\n",
      "Screenshot_2022.01.30_18.43.07.719.png_crop.png\n",
      "----------\n",
      "\n",
      "------------------------------\n",
      "Screenshot_2022.01.30_18.43.12.918.png_crop.png\n",
      "----------\n",
      "NEMETON\n",
      "NEKKER WARRIOR\n",
      "06:18:16\n",
      "------------------------------\n",
      "['GARGOYLE', 'GARGOYLE', 'HERMIT ARACHAS', 'PENITENT', 'GARGOYLE', 'GARGOYLE', 'NOTHING', 'NEKKER WARRIOR']\n"
     ]
    }
   ],
   "source": [
    "pathy = \"C:/Users/jiri.zelenka/Pictures/BlueStacks/2022-01-30_18-43/crops/\"\n",
    "\n",
    "imgs = [f for f in listdir(pathy) if isfile(join(pathy, f))]\n",
    "\n",
    "monsters = read_picture(pathy,  imgs )\n",
    "\n",
    "print(monsters)"
   ]
  },
  {
   "cell_type": "code",
   "execution_count": 61,
   "metadata": {
    "tags": []
   },
   "outputs": [
    {
     "data": {
      "text/html": [
       "<div>\n",
       "<style scoped>\n",
       "    .dataframe tbody tr th:only-of-type {\n",
       "        vertical-align: middle;\n",
       "    }\n",
       "\n",
       "    .dataframe tbody tr th {\n",
       "        vertical-align: top;\n",
       "    }\n",
       "\n",
       "    .dataframe thead th {\n",
       "        text-align: right;\n",
       "    }\n",
       "</style>\n",
       "<table border=\"1\" class=\"dataframe\">\n",
       "  <thead>\n",
       "    <tr style=\"text-align: right;\">\n",
       "      <th></th>\n",
       "      <th>Adress</th>\n",
       "      <th>List_position</th>\n",
       "      <th>Nemeton_position</th>\n",
       "      <th>nemeton_id</th>\n",
       "      <th>text</th>\n",
       "      <th>boss</th>\n",
       "      <th>GPS</th>\n",
       "    </tr>\n",
       "  </thead>\n",
       "  <tbody>\n",
       "    <tr>\n",
       "      <th>0</th>\n",
       "      <td>Vratislavska 1</td>\n",
       "      <td>[630, 733]</td>\n",
       "      <td>[1201, 240]</td>\n",
       "      <td>1</td>\n",
       "      <td>text_3_sections</td>\n",
       "      <td>GARGOYLE</td>\n",
       "      <td>[50.14, 12.23]</td>\n",
       "    </tr>\n",
       "    <tr>\n",
       "      <th>1</th>\n",
       "      <td>Vratislavska 1</td>\n",
       "      <td>[630, 733]</td>\n",
       "      <td>[1602, 310]</td>\n",
       "      <td>2</td>\n",
       "      <td>text_3_sections</td>\n",
       "      <td>GARGOYLE</td>\n",
       "      <td>[50.15, 12.23]</td>\n",
       "    </tr>\n",
       "    <tr>\n",
       "      <th>2</th>\n",
       "      <td>Vratislavska 1</td>\n",
       "      <td>[630, 733]</td>\n",
       "      <td>[936, 862]</td>\n",
       "      <td>3</td>\n",
       "      <td>text_3_sections</td>\n",
       "      <td>HERMIT ARACHAS</td>\n",
       "      <td>[50.16, 12.23]</td>\n",
       "    </tr>\n",
       "    <tr>\n",
       "      <th>3</th>\n",
       "      <td>Vratislavska 1</td>\n",
       "      <td>[630, 733]</td>\n",
       "      <td>[1378, 919]</td>\n",
       "      <td>4</td>\n",
       "      <td>text_3_sections</td>\n",
       "      <td>PENITENT</td>\n",
       "      <td>[50.17, 12.23]</td>\n",
       "    </tr>\n",
       "    <tr>\n",
       "      <th>4</th>\n",
       "      <td>Ladevska 6</td>\n",
       "      <td>[630, 733]</td>\n",
       "      <td>[1219, 499]</td>\n",
       "      <td>5</td>\n",
       "      <td>text_3_sections</td>\n",
       "      <td>GARGOYLE</td>\n",
       "      <td>[50.18, 12.23]</td>\n",
       "    </tr>\n",
       "    <tr>\n",
       "      <th>5</th>\n",
       "      <td>Ladevska 6</td>\n",
       "      <td>[630, 733]</td>\n",
       "      <td>[1157, 950]</td>\n",
       "      <td>6</td>\n",
       "      <td>text_3_sections</td>\n",
       "      <td>GARGOYLE</td>\n",
       "      <td>[50.19, 12.23]</td>\n",
       "    </tr>\n",
       "    <tr>\n",
       "      <th>6</th>\n",
       "      <td>Na jablonce, 182</td>\n",
       "      <td>[613, 748]</td>\n",
       "      <td>[1228, 331]</td>\n",
       "      <td>5</td>\n",
       "      <td>text_3_sections</td>\n",
       "      <td>NOTHING</td>\n",
       "      <td>[50.2, 2.23]</td>\n",
       "    </tr>\n",
       "    <tr>\n",
       "      <th>7</th>\n",
       "      <td>Na jablonce, 182</td>\n",
       "      <td>[613, 748]</td>\n",
       "      <td>[979, 935]</td>\n",
       "      <td>6</td>\n",
       "      <td>text_3_sections</td>\n",
       "      <td>NEKKER WARRIOR</td>\n",
       "      <td>[50.21, 2.23]</td>\n",
       "    </tr>\n",
       "  </tbody>\n",
       "</table>\n",
       "</div>"
      ],
      "text/plain": [
       "             Adress List_position Nemeton_position  nemeton_id  \\\n",
       "0    Vratislavska 1    [630, 733]      [1201, 240]           1   \n",
       "1    Vratislavska 1    [630, 733]      [1602, 310]           2   \n",
       "2    Vratislavska 1    [630, 733]       [936, 862]           3   \n",
       "3    Vratislavska 1    [630, 733]      [1378, 919]           4   \n",
       "4        Ladevska 6    [630, 733]      [1219, 499]           5   \n",
       "5        Ladevska 6    [630, 733]      [1157, 950]           6   \n",
       "6  Na jablonce, 182    [613, 748]      [1228, 331]           5   \n",
       "7  Na jablonce, 182    [613, 748]       [979, 935]           6   \n",
       "\n",
       "              text            boss             GPS  \n",
       "0  text_3_sections        GARGOYLE  [50.14, 12.23]  \n",
       "1  text_3_sections        GARGOYLE  [50.15, 12.23]  \n",
       "2  text_3_sections  HERMIT ARACHAS  [50.16, 12.23]  \n",
       "3  text_3_sections        PENITENT  [50.17, 12.23]  \n",
       "4  text_3_sections        GARGOYLE  [50.18, 12.23]  \n",
       "5  text_3_sections        GARGOYLE  [50.19, 12.23]  \n",
       "6  text_3_sections         NOTHING    [50.2, 2.23]  \n",
       "7  text_3_sections  NEKKER WARRIOR   [50.21, 2.23]  "
      ]
     },
     "metadata": {},
     "output_type": "display_data"
    }
   ],
   "source": [
    "for i in range(len(df_all)):\n",
    "    df_all.loc[i, \"boss\"] = monsters[i]\n",
    "    \n",
    "display(df_all)"
   ]
  },
  {
   "cell_type": "markdown",
   "metadata": {},
   "source": [
    "## Test: Druhé kolo, vem chybějící nemetony:"
   ]
  },
  {
   "cell_type": "code",
   "execution_count": 92,
   "metadata": {},
   "outputs": [
    {
     "data": {
      "text/html": [
       "<div>\n",
       "<style scoped>\n",
       "    .dataframe tbody tr th:only-of-type {\n",
       "        vertical-align: middle;\n",
       "    }\n",
       "\n",
       "    .dataframe tbody tr th {\n",
       "        vertical-align: top;\n",
       "    }\n",
       "\n",
       "    .dataframe thead th {\n",
       "        text-align: right;\n",
       "    }\n",
       "</style>\n",
       "<table border=\"1\" class=\"dataframe\">\n",
       "  <thead>\n",
       "    <tr style=\"text-align: right;\">\n",
       "      <th></th>\n",
       "      <th>Adress</th>\n",
       "      <th>List_position</th>\n",
       "      <th>Nemeton_position</th>\n",
       "      <th>nemeton_id</th>\n",
       "      <th>text</th>\n",
       "      <th>boss</th>\n",
       "      <th>GPS</th>\n",
       "    </tr>\n",
       "  </thead>\n",
       "  <tbody>\n",
       "    <tr>\n",
       "      <th>0</th>\n",
       "      <td>Vratislavska 1</td>\n",
       "      <td>[630, 733]</td>\n",
       "      <td>[1602, 310]</td>\n",
       "      <td>2</td>\n",
       "      <td>text_3_sections</td>\n",
       "      <td>NOTHING</td>\n",
       "      <td>[50.15, 12.23]</td>\n",
       "    </tr>\n",
       "    <tr>\n",
       "      <th>1</th>\n",
       "      <td>Vratislavska 1</td>\n",
       "      <td>[630, 733]</td>\n",
       "      <td>[936, 862]</td>\n",
       "      <td>3</td>\n",
       "      <td>text_3_sections</td>\n",
       "      <td>NOTHING</td>\n",
       "      <td>[50.16, 12.23]</td>\n",
       "    </tr>\n",
       "    <tr>\n",
       "      <th>2</th>\n",
       "      <td>Ladevska 6</td>\n",
       "      <td>[630, 733]</td>\n",
       "      <td>[1157, 950]</td>\n",
       "      <td>6</td>\n",
       "      <td>text_3_sections</td>\n",
       "      <td>NOTHING</td>\n",
       "      <td>[50.19, 12.23]</td>\n",
       "    </tr>\n",
       "    <tr>\n",
       "      <th>3</th>\n",
       "      <td>Na jablonce, 182</td>\n",
       "      <td>[613, 748]</td>\n",
       "      <td>[1228, 331]</td>\n",
       "      <td>5</td>\n",
       "      <td>text_3_sections</td>\n",
       "      <td>NOTHING</td>\n",
       "      <td>[50.2, 2.23]</td>\n",
       "    </tr>\n",
       "  </tbody>\n",
       "</table>\n",
       "</div>"
      ],
      "text/plain": [
       "             Adress List_position Nemeton_position  nemeton_id  \\\n",
       "0    Vratislavska 1    [630, 733]      [1602, 310]           2   \n",
       "1    Vratislavska 1    [630, 733]       [936, 862]           3   \n",
       "2        Ladevska 6    [630, 733]      [1157, 950]           6   \n",
       "3  Na jablonce, 182    [613, 748]      [1228, 331]           5   \n",
       "\n",
       "              text     boss             GPS  \n",
       "0  text_3_sections  NOTHING  [50.15, 12.23]  \n",
       "1  text_3_sections  NOTHING  [50.16, 12.23]  \n",
       "2  text_3_sections  NOTHING  [50.19, 12.23]  \n",
       "3  text_3_sections  NOTHING    [50.2, 2.23]  "
      ]
     },
     "execution_count": 92,
     "metadata": {},
     "output_type": "execute_result"
    }
   ],
   "source": [
    "df_miss = df_all.copy()\n",
    "# https://pandas.pydata.org/pandas-docs/stable/user_guide/indexing.html#returning-a-view-versus-a-copy\n",
    "\n",
    "df_miss.loc[1, \"boss\"] = \"NOTHING\"\n",
    "df_miss.loc[2,\"boss\"] = \"NOTHING\"\n",
    "df_miss.loc[5,\"boss\"] = \"NOTHING\"\n",
    "df_miss = df_miss[df_miss[\"boss\"]==\"NOTHING\"]\n",
    "df_miss.reset_index(inplace = True, drop = True)\n",
    "\n",
    "df_miss"
   ]
  },
  {
   "cell_type": "code",
   "execution_count": 95,
   "metadata": {},
   "outputs": [
    {
     "data": {
      "text/plain": [
       "[[[1602, 310], [936, 862]], [[1157, 950]], [[1228, 331]]]"
      ]
     },
     "execution_count": 95,
     "metadata": {},
     "output_type": "execute_result"
    }
   ],
   "source": [
    "locations, list_positions, nemeton_positions = prepare_inputs(df_miss)\n",
    "\n",
    "nemeton_positions"
   ]
  },
  {
   "cell_type": "markdown",
   "metadata": {},
   "source": [
    "## MAPY\n",
    "* Google API - bylo by super na sdílení, s piny\n",
    "* PowerBI i Tableau má podle mě problém s exportem veřejným\n",
    "* Python - Folium - jde uložit HTML, uvidíme zda i s piny a s interaktivními prvky"
   ]
  },
  {
   "cell_type": "code",
   "execution_count": null,
   "metadata": {},
   "outputs": [],
   "source": []
  },
  {
   "cell_type": "code",
   "execution_count": null,
   "metadata": {},
   "outputs": [],
   "source": []
  },
  {
   "cell_type": "code",
   "execution_count": 98,
   "metadata": {},
   "outputs": [
    {
     "name": "stderr",
     "output_type": "stream",
     "text": [
      "ERROR: Could not find a version that satisfies the requirement pygmaps (from versions: none)\n",
      "ERROR: No matching distribution found for pygmaps\n"
     ]
    }
   ],
   "source": [
    "!pip install pygmaps"
   ]
  },
  {
   "cell_type": "code",
   "execution_count": 97,
   "metadata": {},
   "outputs": [
    {
     "ename": "ModuleNotFoundError",
     "evalue": "No module named 'pygmaps'",
     "output_type": "error",
     "traceback": [
      "\u001b[1;31m---------------------------------------------------------------------------\u001b[0m",
      "\u001b[1;31mModuleNotFoundError\u001b[0m                       Traceback (most recent call last)",
      "\u001b[1;32m<ipython-input-97-d017dbc38695>\u001b[0m in \u001b[0;36m<module>\u001b[1;34m()\u001b[0m\n\u001b[1;32m----> 1\u001b[1;33m \u001b[1;32mimport\u001b[0m \u001b[0mpygmaps\u001b[0m\u001b[1;33m\u001b[0m\u001b[0m\n\u001b[0m",
      "\u001b[1;31mModuleNotFoundError\u001b[0m: No module named 'pygmaps'"
     ]
    }
   ],
   "source": [
    "import pygmaps"
   ]
  },
  {
   "cell_type": "code",
   "execution_count": 1,
   "metadata": {},
   "outputs": [],
   "source": [
    "import webbrowser  # easy, bez instalace"
   ]
  },
  {
   "cell_type": "code",
   "execution_count": null,
   "metadata": {},
   "outputs": [],
   "source": []
  },
  {
   "cell_type": "markdown",
   "metadata": {},
   "source": [
    "### Foium Mapy\n",
    "\n",
    "#### \"barevné\" vrstvy - https://stackoverflow.com/questions/64435653/filter-folium-map-based-on-marker-color"
   ]
  },
  {
   "cell_type": "code",
   "execution_count": 183,
   "metadata": {},
   "outputs": [],
   "source": [
    "import folium\n",
    "from folium import plugins\n",
    "from folium.plugins import MarkerCluster\n"
   ]
  },
  {
   "cell_type": "code",
   "execution_count": 223,
   "metadata": {
    "tags": []
   },
   "outputs": [
    {
     "data": {
      "text/html": [
       "<div style=\"width:100%;\"><div style=\"position:relative;width:100%;height:0;padding-bottom:60%;\"><span style=\"color:#565656\">Make this Notebook Trusted to load map: File -> Trust Notebook</span><iframe src=\"about:blank\" style=\"position:absolute;width:100%;height:100%;left:0;top:0;border:none !important;\" data-html=%3C%21DOCTYPE%20html%3E%0A%3Chead%3E%20%20%20%20%0A%20%20%20%20%3Cmeta%20http-equiv%3D%22content-type%22%20content%3D%22text/html%3B%20charset%3DUTF-8%22%20/%3E%0A%20%20%20%20%0A%20%20%20%20%20%20%20%20%3Cscript%3E%0A%20%20%20%20%20%20%20%20%20%20%20%20L_NO_TOUCH%20%3D%20false%3B%0A%20%20%20%20%20%20%20%20%20%20%20%20L_DISABLE_3D%20%3D%20false%3B%0A%20%20%20%20%20%20%20%20%3C/script%3E%0A%20%20%20%20%0A%20%20%20%20%3Cstyle%3Ehtml%2C%20body%20%7Bwidth%3A%20100%25%3Bheight%3A%20100%25%3Bmargin%3A%200%3Bpadding%3A%200%3B%7D%3C/style%3E%0A%20%20%20%20%3Cstyle%3E%23map%20%7Bposition%3Aabsolute%3Btop%3A0%3Bbottom%3A0%3Bright%3A0%3Bleft%3A0%3B%7D%3C/style%3E%0A%20%20%20%20%3Cscript%20src%3D%22https%3A//cdn.jsdelivr.net/npm/leaflet%401.6.0/dist/leaflet.js%22%3E%3C/script%3E%0A%20%20%20%20%3Cscript%20src%3D%22https%3A//code.jquery.com/jquery-1.12.4.min.js%22%3E%3C/script%3E%0A%20%20%20%20%3Cscript%20src%3D%22https%3A//maxcdn.bootstrapcdn.com/bootstrap/3.2.0/js/bootstrap.min.js%22%3E%3C/script%3E%0A%20%20%20%20%3Cscript%20src%3D%22https%3A//cdnjs.cloudflare.com/ajax/libs/Leaflet.awesome-markers/2.0.2/leaflet.awesome-markers.js%22%3E%3C/script%3E%0A%20%20%20%20%3Clink%20rel%3D%22stylesheet%22%20href%3D%22https%3A//cdn.jsdelivr.net/npm/leaflet%401.6.0/dist/leaflet.css%22/%3E%0A%20%20%20%20%3Clink%20rel%3D%22stylesheet%22%20href%3D%22https%3A//maxcdn.bootstrapcdn.com/bootstrap/3.2.0/css/bootstrap.min.css%22/%3E%0A%20%20%20%20%3Clink%20rel%3D%22stylesheet%22%20href%3D%22https%3A//maxcdn.bootstrapcdn.com/bootstrap/3.2.0/css/bootstrap-theme.min.css%22/%3E%0A%20%20%20%20%3Clink%20rel%3D%22stylesheet%22%20href%3D%22https%3A//maxcdn.bootstrapcdn.com/font-awesome/4.6.3/css/font-awesome.min.css%22/%3E%0A%20%20%20%20%3Clink%20rel%3D%22stylesheet%22%20href%3D%22https%3A//cdnjs.cloudflare.com/ajax/libs/Leaflet.awesome-markers/2.0.2/leaflet.awesome-markers.css%22/%3E%0A%20%20%20%20%3Clink%20rel%3D%22stylesheet%22%20href%3D%22https%3A//cdn.jsdelivr.net/gh/python-visualization/folium/folium/templates/leaflet.awesome.rotate.min.css%22/%3E%0A%20%20%20%20%0A%20%20%20%20%20%20%20%20%20%20%20%20%3Cmeta%20name%3D%22viewport%22%20content%3D%22width%3Ddevice-width%2C%0A%20%20%20%20%20%20%20%20%20%20%20%20%20%20%20%20initial-scale%3D1.0%2C%20maximum-scale%3D1.0%2C%20user-scalable%3Dno%22%20/%3E%0A%20%20%20%20%20%20%20%20%20%20%20%20%3Cstyle%3E%0A%20%20%20%20%20%20%20%20%20%20%20%20%20%20%20%20%23map_6778eb29e1ea45958302f9e76041c34e%20%7B%0A%20%20%20%20%20%20%20%20%20%20%20%20%20%20%20%20%20%20%20%20position%3A%20relative%3B%0A%20%20%20%20%20%20%20%20%20%20%20%20%20%20%20%20%20%20%20%20width%3A%201024.0px%3B%0A%20%20%20%20%20%20%20%20%20%20%20%20%20%20%20%20%20%20%20%20height%3A%20600.0px%3B%0A%20%20%20%20%20%20%20%20%20%20%20%20%20%20%20%20%20%20%20%20left%3A%200.0%25%3B%0A%20%20%20%20%20%20%20%20%20%20%20%20%20%20%20%20%20%20%20%20top%3A%200.0%25%3B%0A%20%20%20%20%20%20%20%20%20%20%20%20%20%20%20%20%7D%0A%20%20%20%20%20%20%20%20%20%20%20%20%3C/style%3E%0A%20%20%20%20%20%20%20%20%0A%3C/head%3E%0A%3Cbody%3E%20%20%20%20%0A%20%20%20%20%0A%20%20%20%20%20%20%20%20%20%20%20%20%3Cdiv%20class%3D%22folium-map%22%20id%3D%22map_6778eb29e1ea45958302f9e76041c34e%22%20%3E%3C/div%3E%0A%20%20%20%20%20%20%20%20%0A%3C/body%3E%0A%3Cscript%3E%20%20%20%20%0A%20%20%20%20%0A%20%20%20%20%20%20%20%20%20%20%20%20var%20map_6778eb29e1ea45958302f9e76041c34e%20%3D%20L.map%28%0A%20%20%20%20%20%20%20%20%20%20%20%20%20%20%20%20%22map_6778eb29e1ea45958302f9e76041c34e%22%2C%0A%20%20%20%20%20%20%20%20%20%20%20%20%20%20%20%20%7B%0A%20%20%20%20%20%20%20%20%20%20%20%20%20%20%20%20%20%20%20%20center%3A%20%5B50.1275186%2C%2014.4165633%5D%2C%0A%20%20%20%20%20%20%20%20%20%20%20%20%20%20%20%20%20%20%20%20crs%3A%20L.CRS.EPSG3857%2C%0A%20%20%20%20%20%20%20%20%20%20%20%20%20%20%20%20%20%20%20%20zoom%3A%2030%2C%0A%20%20%20%20%20%20%20%20%20%20%20%20%20%20%20%20%20%20%20%20zoomControl%3A%20true%2C%0A%20%20%20%20%20%20%20%20%20%20%20%20%20%20%20%20%20%20%20%20preferCanvas%3A%20false%2C%0A%20%20%20%20%20%20%20%20%20%20%20%20%20%20%20%20%7D%0A%20%20%20%20%20%20%20%20%20%20%20%20%29%3B%0A%0A%20%20%20%20%20%20%20%20%20%20%20%20%0A%0A%20%20%20%20%20%20%20%20%0A%20%20%20%20%0A%20%20%20%20%20%20%20%20%20%20%20%20var%20tile_layer_f6f1c61133454d68846820c1583c8751%20%3D%20L.tileLayer%28%0A%20%20%20%20%20%20%20%20%20%20%20%20%20%20%20%20%22https%3A//%7Bs%7D.tile.openstreetmap.org/%7Bz%7D/%7Bx%7D/%7By%7D.png%22%2C%0A%20%20%20%20%20%20%20%20%20%20%20%20%20%20%20%20%7B%22attribution%22%3A%20%22Data%20by%20%5Cu0026copy%3B%20%5Cu003ca%20href%3D%5C%22http%3A//openstreetmap.org%5C%22%5Cu003eOpenStreetMap%5Cu003c/a%5Cu003e%2C%20under%20%5Cu003ca%20href%3D%5C%22http%3A//www.openstreetmap.org/copyright%5C%22%5Cu003eODbL%5Cu003c/a%5Cu003e.%22%2C%20%22detectRetina%22%3A%20false%2C%20%22maxNativeZoom%22%3A%2018%2C%20%22maxZoom%22%3A%2018%2C%20%22minZoom%22%3A%200%2C%20%22noWrap%22%3A%20false%2C%20%22opacity%22%3A%201%2C%20%22subdomains%22%3A%20%22abc%22%2C%20%22tms%22%3A%20false%7D%0A%20%20%20%20%20%20%20%20%20%20%20%20%29.addTo%28map_6778eb29e1ea45958302f9e76041c34e%29%3B%0A%20%20%20%20%20%20%20%20%0A%20%20%20%20%0A%20%20%20%20%20%20%20%20%20%20%20%20var%20feature_group_a2f0cf04b9f24eb3821d689a2f320f92%20%3D%20L.featureGroup%28%0A%20%20%20%20%20%20%20%20%20%20%20%20%20%20%20%20%7B%7D%0A%20%20%20%20%20%20%20%20%20%20%20%20%29.addTo%28map_6778eb29e1ea45958302f9e76041c34e%29%3B%0A%20%20%20%20%20%20%20%20%0A%20%20%20%20%0A%20%20%20%20%20%20%20%20%20%20%20%20var%20circle_marker_3e1ca96168d1460ebccd1f09bb31adcf%20%3D%20L.circleMarker%28%0A%20%20%20%20%20%20%20%20%20%20%20%20%20%20%20%20%5B50.1268%2C%2014.418%5D%2C%0A%20%20%20%20%20%20%20%20%20%20%20%20%20%20%20%20%7B%22bubblingMouseEvents%22%3A%20true%2C%20%22color%22%3A%20%22red%22%2C%20%22dashArray%22%3A%20null%2C%20%22dashOffset%22%3A%20null%2C%20%22fill%22%3A%20false%2C%20%22fillColor%22%3A%20%22red%22%2C%20%22fillOpacity%22%3A%200.2%2C%20%22fillRule%22%3A%20%22evenodd%22%2C%20%22lineCap%22%3A%20%22round%22%2C%20%22lineJoin%22%3A%20%22round%22%2C%20%22opacity%22%3A%201.0%2C%20%22radius%22%3A%2010%2C%20%22stroke%22%3A%20true%2C%20%22weight%22%3A%203%7D%0A%20%20%20%20%20%20%20%20%20%20%20%20%29.addTo%28feature_group_a2f0cf04b9f24eb3821d689a2f320f92%29%3B%0A%20%20%20%20%20%20%20%20%0A%20%20%20%20%0A%20%20%20%20%20%20%20%20var%20popup_b3798b531f524ea7a8b68e36c4a97c3a%20%3D%20L.popup%28%7B%22maxWidth%22%3A%20%22100%25%22%7D%29%3B%0A%0A%20%20%20%20%20%20%20%20%0A%20%20%20%20%20%20%20%20%20%20%20%20var%20html_c84a80a3aa2d4942841424d5259915cb%20%3D%20%24%28%60%3Cdiv%20id%3D%22html_c84a80a3aa2d4942841424d5259915cb%22%20style%3D%22width%3A%20100.0%25%3B%20height%3A%20100.0%25%3B%22%3EN%C4%9Bco_red%3C/div%3E%60%29%5B0%5D%3B%0A%20%20%20%20%20%20%20%20%20%20%20%20popup_b3798b531f524ea7a8b68e36c4a97c3a.setContent%28html_c84a80a3aa2d4942841424d5259915cb%29%3B%0A%20%20%20%20%20%20%20%20%0A%0A%20%20%20%20%20%20%20%20circle_marker_3e1ca96168d1460ebccd1f09bb31adcf.bindPopup%28popup_b3798b531f524ea7a8b68e36c4a97c3a%29%0A%20%20%20%20%20%20%20%20%3B%0A%0A%20%20%20%20%20%20%20%20%0A%20%20%20%20%0A%20%20%20%20%0A%20%20%20%20%20%20%20%20%20%20%20%20var%20feature_group_251676735d9148a9a0dfd1c15fbf7eef%20%3D%20L.featureGroup%28%0A%20%20%20%20%20%20%20%20%20%20%20%20%20%20%20%20%7B%7D%0A%20%20%20%20%20%20%20%20%20%20%20%20%29.addTo%28map_6778eb29e1ea45958302f9e76041c34e%29%3B%0A%20%20%20%20%20%20%20%20%0A%20%20%20%20%0A%20%20%20%20%20%20%20%20%20%20%20%20var%20circle_marker_8e68b2c2b8584de889ce3679bd38a5e6%20%3D%20L.circleMarker%28%0A%20%20%20%20%20%20%20%20%20%20%20%20%20%20%20%20%5B50.1269%2C%2014.4165%5D%2C%0A%20%20%20%20%20%20%20%20%20%20%20%20%20%20%20%20%7B%22bubblingMouseEvents%22%3A%20true%2C%20%22color%22%3A%20%22blue%22%2C%20%22dashArray%22%3A%20null%2C%20%22dashOffset%22%3A%20null%2C%20%22fill%22%3A%20false%2C%20%22fillColor%22%3A%20%22blue%22%2C%20%22fillOpacity%22%3A%200.2%2C%20%22fillRule%22%3A%20%22evenodd%22%2C%20%22lineCap%22%3A%20%22round%22%2C%20%22lineJoin%22%3A%20%22round%22%2C%20%22opacity%22%3A%201.0%2C%20%22radius%22%3A%2010%2C%20%22stroke%22%3A%20true%2C%20%22weight%22%3A%203%7D%0A%20%20%20%20%20%20%20%20%20%20%20%20%29.addTo%28feature_group_251676735d9148a9a0dfd1c15fbf7eef%29%3B%0A%20%20%20%20%20%20%20%20%0A%20%20%20%20%0A%20%20%20%20%20%20%20%20var%20popup_d52a0bbf6b634043a0574f132ba35203%20%3D%20L.popup%28%7B%22maxWidth%22%3A%20%22100%25%22%7D%29%3B%0A%0A%20%20%20%20%20%20%20%20%0A%20%20%20%20%20%20%20%20%20%20%20%20var%20html_e683c20aa2ad4475b39dde9d85308f04%20%3D%20%24%28%60%3Cdiv%20id%3D%22html_e683c20aa2ad4475b39dde9d85308f04%22%20style%3D%22width%3A%20100.0%25%3B%20height%3A%20100.0%25%3B%22%3EN%C4%9Bco_blue%3C/div%3E%60%29%5B0%5D%3B%0A%20%20%20%20%20%20%20%20%20%20%20%20popup_d52a0bbf6b634043a0574f132ba35203.setContent%28html_e683c20aa2ad4475b39dde9d85308f04%29%3B%0A%20%20%20%20%20%20%20%20%0A%0A%20%20%20%20%20%20%20%20circle_marker_8e68b2c2b8584de889ce3679bd38a5e6.bindPopup%28popup_d52a0bbf6b634043a0574f132ba35203%29%0A%20%20%20%20%20%20%20%20%3B%0A%0A%20%20%20%20%20%20%20%20%0A%20%20%20%20%0A%20%20%20%20%0A%20%20%20%20%20%20%20%20%20%20%20%20var%20layer_control_f987c06628964d53a9e00ef792040324%20%3D%20%7B%0A%20%20%20%20%20%20%20%20%20%20%20%20%20%20%20%20base_layers%20%3A%20%7B%0A%20%20%20%20%20%20%20%20%20%20%20%20%20%20%20%20%20%20%20%20%22openstreetmap%22%20%3A%20tile_layer_f6f1c61133454d68846820c1583c8751%2C%0A%20%20%20%20%20%20%20%20%20%20%20%20%20%20%20%20%7D%2C%0A%20%20%20%20%20%20%20%20%20%20%20%20%20%20%20%20overlays%20%3A%20%20%7B%0A%20%20%20%20%20%20%20%20%20%20%20%20%20%20%20%20%20%20%20%20%22red%22%20%3A%20feature_group_a2f0cf04b9f24eb3821d689a2f320f92%2C%0A%20%20%20%20%20%20%20%20%20%20%20%20%20%20%20%20%20%20%20%20%22blue%22%20%3A%20feature_group_251676735d9148a9a0dfd1c15fbf7eef%2C%0A%20%20%20%20%20%20%20%20%20%20%20%20%20%20%20%20%7D%2C%0A%20%20%20%20%20%20%20%20%20%20%20%20%7D%3B%0A%20%20%20%20%20%20%20%20%20%20%20%20L.control.layers%28%0A%20%20%20%20%20%20%20%20%20%20%20%20%20%20%20%20layer_control_f987c06628964d53a9e00ef792040324.base_layers%2C%0A%20%20%20%20%20%20%20%20%20%20%20%20%20%20%20%20layer_control_f987c06628964d53a9e00ef792040324.overlays%2C%0A%20%20%20%20%20%20%20%20%20%20%20%20%20%20%20%20%7B%22autoZIndex%22%3A%20true%2C%20%22collapsed%22%3A%20true%2C%20%22position%22%3A%20%22topright%22%7D%0A%20%20%20%20%20%20%20%20%20%20%20%20%29.addTo%28map_6778eb29e1ea45958302f9e76041c34e%29%3B%0A%20%20%20%20%20%20%20%20%0A%3C/script%3E onload=\"this.contentDocument.open();this.contentDocument.write(    decodeURIComponent(this.getAttribute('data-html')));this.contentDocument.close();\" allowfullscreen webkitallowfullscreen mozallowfullscreen></iframe></div></div>"
      ],
      "text/plain": [
       "<folium.folium.Map at 0x283f0a029e8>"
      ]
     },
     "execution_count": 223,
     "metadata": {},
     "output_type": "execute_result"
    }
   ],
   "source": [
    "cols_and_gps = pd.DataFrame()\n",
    "cols_and_gps[\"marker_color\"] = [\"red\", \"blue\"]\n",
    "cols_and_gps[\"Latitude\"] = [50.1268, 50.1269, ]  \n",
    "cols_and_gps[\"Longitude\"]= [14.418, 14.4165,]\n",
    "\n",
    "##############################################################################x\n",
    "\n",
    "nemeton1 = folium.Map(\n",
    "                        location=[50.1275186, 14.4165633],\n",
    "                        zoom_start=30,\n",
    "                        width=1024,\n",
    "                        height=600,\n",
    "                        tiles = \"OpenStreetMap\")  #by default  # potenciálně, lepší podklad: , tiles = 'Stamen Terrain')\n",
    "\n",
    "\"\"\"\n",
    "plugins.HeatMapWithTime( \n",
    "                        radius=10,\n",
    "                gradient={0.1: 'blue', 0.2: 'blue', 0.4: 'lime', 0.6: 'orange', 0.8: 'red', 0.99: 'purple'},\n",
    "                min_opacity=0.5, max_opacity=0.8, use_local_extrema=False).add_to(nemeton1)\n",
    "\"\"\"\n",
    "\n",
    "features = {}\n",
    "for row in pd.unique(cols_and_gps[\"marker_color\"]):\n",
    "    features[row] = folium.FeatureGroup(name=row)\n",
    "    \n",
    "for index, row in cols_and_gps.iterrows():\n",
    "    circ = folium.CircleMarker([row['Latitude'],    # Marker = Pin, CircleMarker = kroužek, Circle = Kruj\n",
    "                                row['Longitude']],\n",
    "                               color=row['marker_color'],\n",
    "                               popup = str(\"Něco_\"+row['marker_color'])\n",
    "                              )\n",
    "    circ.add_to(features[row['marker_color']])\n",
    "\n",
    "\n",
    "for row in pd.unique(cols_and_gps[\"marker_color\"]):\n",
    "    features[row].add_to(nemeton1)\n",
    "\n",
    "\n",
    "folium.LayerControl().add_to(nemeton1)\n",
    "\n",
    "nemeton1\n"
   ]
  },
  {
   "cell_type": "code",
   "execution_count": 216,
   "metadata": {
    "tags": []
   },
   "outputs": [],
   "source": []
  },
  {
   "cell_type": "code",
   "execution_count": null,
   "metadata": {},
   "outputs": [],
   "source": []
  },
  {
   "cell_type": "code",
   "execution_count": 191,
   "metadata": {},
   "outputs": [
    {
     "ename": "SyntaxError",
     "evalue": "invalid syntax (<ipython-input-192-f2be59284e2b>, line 2)",
     "output_type": "error",
     "traceback": [
      "\u001b[1;36m  File \u001b[1;32m\"<ipython-input-192-f2be59284e2b>\"\u001b[1;36m, line \u001b[1;32m2\u001b[0m\n\u001b[1;33m    * clusterování bodů do jedné práce\u001b[0m\n\u001b[1;37m                      ^\u001b[0m\n\u001b[1;31mSyntaxError\u001b[0m\u001b[1;31m:\u001b[0m invalid syntax\n"
     ]
    }
   ],
   "source": [
    "## pokračování:\n",
    "* clusterování bodů do jedné práce\n",
    "* zanášení do mapy\n",
    "* jde to vyexportovat i s filtrem??"
   ]
  },
  {
   "cell_type": "code",
   "execution_count": null,
   "metadata": {},
   "outputs": [],
   "source": []
  },
  {
   "cell_type": "code",
   "execution_count": 224,
   "metadata": {},
   "outputs": [],
   "source": [
    "nemeton1.save(\"map2.html\")"
   ]
  },
  {
   "cell_type": "code",
   "execution_count": null,
   "metadata": {},
   "outputs": [],
   "source": []
  }
 ],
 "metadata": {
  "kernelspec": {
   "display_name": "Python 3",
   "language": "python",
   "name": "python3"
  },
  "language_info": {
   "codemirror_mode": {
    "name": "ipython",
    "version": 3
   },
   "file_extension": ".py",
   "mimetype": "text/x-python",
   "name": "python",
   "nbconvert_exporter": "python",
   "pygments_lexer": "ipython3",
   "version": "3.6.5"
  }
 },
 "nbformat": 4,
 "nbformat_minor": 4
}
